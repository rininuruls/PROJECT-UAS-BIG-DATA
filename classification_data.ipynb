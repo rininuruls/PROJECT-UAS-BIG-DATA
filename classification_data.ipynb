{
  "nbformat": 4,
  "nbformat_minor": 0,
  "metadata": {
    "colab": {
      "provenance": [],
      "include_colab_link": true
    },
    "kernelspec": {
      "name": "python3",
      "display_name": "Python 3"
    },
    "language_info": {
      "name": "python"
    }
  },
  "cells": [
    {
      "cell_type": "markdown",
      "metadata": {
        "id": "view-in-github",
        "colab_type": "text"
      },
      "source": [
        "<a href=\"https://colab.research.google.com/github/rininuruls/PROJECT-UAS-BIG-DATA/blob/main/classification_data.ipynb\" target=\"_parent\"><img src=\"https://colab.research.google.com/assets/colab-badge.svg\" alt=\"Open In Colab\"/></a>"
      ]
    },
    {
      "cell_type": "code",
      "execution_count": null,
      "metadata": {
        "id": "SkwF7xgV3xSw"
      },
      "outputs": [],
      "source": [
        "from pyspark.sql import SparkSession\n",
        "from pyspark.sql.functions import when\n",
        "from pyspark.ml import Pipeline\n",
        "from pyspark.ml.feature import (\n",
        "    Tokenizer, StopWordsRemover, CountVectorizer, IDF,\n",
        "    StringIndexer, OneHotEncoder, VectorAssembler, StandardScaler\n",
        ")\n",
        "from pyspark.ml.classification import RandomForestClassifier\n",
        "from pyspark.ml.evaluation import MulticlassClassificationEvaluator"
      ]
    },
    {
      "cell_type": "code",
      "source": [
        "# Inisialisasi SparkSession\n",
        "spark = SparkSession.builder \\\n",
        "    .appName(\"ShopeeProductClassification\") \\\n",
        "    .getOrCreate()\n",
        "\n",
        "# Load data CSV\n",
        "df = spark.read.csv(\"/content/sepatu_data_cleaned.csv\", header=True, inferSchema=True)\n",
        "\n",
        "#tampilkan data\n",
        "df.show(5)\n"
      ],
      "metadata": {
        "colab": {
          "base_uri": "https://localhost:8080/"
        },
        "id": "jIWfalVS33_T",
        "outputId": "ce65c595-e19b-4b01-9d1b-41df560a90d7"
      },
      "execution_count": null,
      "outputs": [
        {
          "output_type": "stream",
          "name": "stdout",
          "text": [
            "+--------------------+------+-------+-------------+\n",
            "|               judul| harga|terjual|       lokasi|\n",
            "+--------------------+------+-------+-------------+\n",
            "|Jackson Active Ch...|939000|      5|Jakarta Barat|\n",
            "|Aerostreet 37-40 ...|169900|   6200|  Kab. Klaten|\n",
            "|PANARYBODY Sepatu...|215000|   2100|    Tangerang|\n",
            "|[COD]ASNK SEPATU ...|114900|  10000|Jakarta Barat|\n",
            "|Sepatu Sneakers J...|449000|    943|      Bandung|\n",
            "+--------------------+------+-------+-------------+\n",
            "only showing top 5 rows\n",
            "\n"
          ]
        }
      ]
    },
    {
      "cell_type": "code",
      "source": [
        "# 1. Buat label klasifikasi berdasarkan kolom terjual\n",
        "df = df.withColumn(\n",
        "    \"label\",\n",
        "    when(df.terjual < 100, 0) \\\n",
        "    .when((df.terjual >= 100) & (df.terjual < 1000), 1) \\\n",
        "    .otherwise(2)\n",
        ")"
      ],
      "metadata": {
        "id": "iUENSxHK41xF"
      },
      "execution_count": null,
      "outputs": []
    },
    {
      "cell_type": "code",
      "source": [
        "# 2. Transform Judul\n",
        "tokenizer = Tokenizer(inputCol=\"judul\", outputCol=\"words\")\n",
        "remover = StopWordsRemover(inputCol=\"words\", outputCol=\"filtered_words\")\n",
        "vectorizer = CountVectorizer(inputCol=\"filtered_words\", outputCol=\"rawFeatures\")\n",
        "idf = IDF(inputCol=\"rawFeatures\", outputCol=\"title_features\")"
      ],
      "metadata": {
        "id": "q3Whics05Hao"
      },
      "execution_count": null,
      "outputs": []
    },
    {
      "cell_type": "code",
      "source": [
        "# 3. Transform Lokasi\n",
        "tempat_indexer = StringIndexer(inputCol=\"lokasi\", outputCol=\"tempat_index\", handleInvalid=\"keep\")\n",
        "tempat_encoder = OneHotEncoder(inputCol=\"tempat_index\", outputCol=\"tempat_encoded\")"
      ],
      "metadata": {
        "id": "klphUKHn5KpQ"
      },
      "execution_count": null,
      "outputs": []
    },
    {
      "cell_type": "code",
      "source": [
        "# 4. Scaling fitur harga\n",
        "harga_assembler = VectorAssembler(inputCols=[\"harga\"], outputCol=\"harga_vec\")\n",
        "harga_scaler = StandardScaler(inputCol=\"harga_vec\", outputCol=\"harga_scaled\")"
      ],
      "metadata": {
        "id": "77rov42y5fKj"
      },
      "execution_count": null,
      "outputs": []
    },
    {
      "cell_type": "code",
      "source": [
        "# 5. Gabungkan semua fitur menjadi vector features\n",
        "feature_assembler = VectorAssembler(\n",
        "    inputCols=[\"title_features\", \"tempat_encoded\", \"harga_scaled\"],\n",
        "    outputCol=\"features\"\n",
        ")"
      ],
      "metadata": {
        "id": "I-gEaPrO5kt2"
      },
      "execution_count": null,
      "outputs": []
    },
    {
      "cell_type": "code",
      "source": [
        "# 6. Definisikan model klasifikasi RandomForest\n",
        "classifier = RandomForestClassifier(featuresCol=\"features\", labelCol=\"label\", seed=42)"
      ],
      "metadata": {
        "id": "cbnNdoOo5ogr"
      },
      "execution_count": null,
      "outputs": []
    },
    {
      "cell_type": "code",
      "source": [
        "# 7. Buat pipeline lengkap\n",
        "pipeline = Pipeline(stages=[\n",
        "    tokenizer,\n",
        "    remover,\n",
        "    vectorizer,\n",
        "    idf,\n",
        "    tempat_indexer,\n",
        "    tempat_encoder,\n",
        "    harga_assembler,\n",
        "    harga_scaler,\n",
        "    feature_assembler,\n",
        "    classifier\n",
        "])"
      ],
      "metadata": {
        "id": "DtHBDoFf5u6W"
      },
      "execution_count": null,
      "outputs": []
    },
    {
      "cell_type": "code",
      "source": [
        "# 8. Bagi data train-test split\n",
        "train_df, test_df = df.randomSplit([0.8, 0.2], seed=42)\n",
        "\n",
        "# 9. Latih model\n",
        "model = pipeline.fit(train_df)\n",
        "\n",
        "# 10. Prediksi di data test\n",
        "predictions = model.transform(test_df)"
      ],
      "metadata": {
        "id": "gehKNdcQ5xft"
      },
      "execution_count": null,
      "outputs": []
    },
    {
      "cell_type": "code",
      "source": [
        "# 11. Evaluasi akurasi\n",
        "evaluator = MulticlassClassificationEvaluator(labelCol=\"label\", predictionCol=\"prediction\", metricName=\"accuracy\")\n",
        "accuracy = evaluator.evaluate(predictions)\n",
        "print(f\"Accuracy: {accuracy}\")"
      ],
      "metadata": {
        "colab": {
          "base_uri": "https://localhost:8080/"
        },
        "id": "uUF1Z-pc55X2",
        "outputId": "5b0e791f-4a4a-4cc5-ef02-5cc1c91c5ecd"
      },
      "execution_count": null,
      "outputs": [
        {
          "output_type": "stream",
          "name": "stdout",
          "text": [
            "Accuracy: 0.6111111111111112\n"
          ]
        }
      ]
    },
    {
      "cell_type": "code",
      "source": [
        "\n",
        "# 12. Classification\n",
        "\n",
        "# Tambahkan kolom label_name\n",
        "predictions = predictions.withColumn(\n",
        "    \"label_name\",\n",
        "    when(predictions.label == 0, \"Low\") \\\n",
        "    .when(predictions.label == 1, \"Medium\") \\\n",
        "    .otherwise(\"High\")\n",
        ")\n",
        "\n",
        "# (Opsional) Tambahkan juga prediksi label_name\n",
        "predictions = predictions.withColumn(\n",
        "    \"predicted_label_name\",\n",
        "    when(predictions.prediction == 0, \"Low\") \\\n",
        "    .when(predictions.prediction == 1, \"Medium\") \\\n",
        "    .otherwise(\"High\")\n",
        ")\n",
        "\n",
        "predictions.select(\"judul\", \"harga\", \"terjual\",\"lokasi\", \"label_name\", \"prediction\").show(100)"
      ],
      "metadata": {
        "colab": {
          "base_uri": "https://localhost:8080/"
        },
        "id": "Pnjw-wMa7tp5",
        "outputId": "97a40dbd-406c-48ea-c8f2-1b02cf1792c8"
      },
      "execution_count": null,
      "outputs": [
        {
          "output_type": "stream",
          "name": "stdout",
          "text": [
            "+--------------------+------+-------+---------------+----------+----------+\n",
            "|               judul| harga|terjual|         lokasi|label_name|prediction|\n",
            "+--------------------+------+-------+---------------+----------+----------+\n",
            "|\"CaniKorea \"\"FREE...|136000|   1400| Kab. Tangerang|      High|       2.0|\n",
            "|(VIBESSTR) NEW ٥٧...|182000|     83|        Bandung|       Low|       2.0|\n",
            "|Aerostreet 37-40 ...|169900|  10000|    Kab. Klaten|      High|       2.0|\n",
            "|Aerostreet 37-40 ...|159900|   2600|    Kab. Klaten|      High|       2.0|\n",
            "|Arvus Gerda Sepat...|115450|   1100|    Kab. Bantul|      High|       2.0|\n",
            "|BRODO - Sepatu Si...|617000|     38|    Kab. Bekasi|       Low|       0.0|\n",
            "|COROLLA Blossom S...|189999|  10000| Kab. Tangerang|      High|       2.0|\n",
            "|GMN Havertz Sepat...|129999|   1500|  Jakarta Timur|      High|       2.0|\n",
            "|KRONIKEL Karina S...|169900|    467|          Depok|    Medium|       2.0|\n",
            "|Kenfa - Benze Bla...|265000|   3000|   Kab. Bandung|      High|       2.0|\n",
            "|Kenfa - Sefron Bl...|254974|   8300|   Kab. Bandung|      High|       2.0|\n",
            "|Marelow® Denver W...|139000|     66|  Jakarta Barat|       Low|       2.0|\n",
            "|Minowear Katelyn ...|169000|    592|  Jakarta Barat|    Medium|       2.0|\n",
            "|PANARYBODY Sepatu...|235000|    177|       Surabaya|    Medium|       2.0|\n",
            "|PVN Taeri Sepatu ...|106900|  10000|      Tangerang|      High|       2.0|\n",
            "|SEPATU SNEAKERS N...|219000|    358|Jakarta Selatan|    Medium|       2.0|\n",
            "|SOVELLA Elian Sep...|169900|    170| Kab. Tangerang|    Medium|       2.0|\n",
            "|VERALDO Parker Sn...|129900|   3300| Kab. Tangerang|      High|       2.0|\n",
            "+--------------------+------+-------+---------------+----------+----------+\n",
            "\n"
          ]
        }
      ]
    },
    {
      "cell_type": "code",
      "source": [
        "import matplotlib.pyplot as plt\n",
        "import seaborn as sns\n",
        "from sklearn.metrics import confusion_matrix, ConfusionMatrixDisplay\n",
        "\n",
        "# Konversi DataFrame PySpark ke Pandas\n",
        "# Pilih kolom yang relevan untuk confusion matrix\n",
        "pandas_df = predictions.select(\"label_name\", \"prediction\").toPandas()\n",
        "\n",
        "# Konversi kolom 'prediction' menjadi string agar sesuai dengan tipe data 'label_name'\n",
        "# Gunakan mapping yang sama seperti saat membuat 'predicted_label_name'\n",
        "pandas_df['prediction'] = pandas_df['prediction'].apply(\n",
        "    lambda x: 'Low' if x == 0 else ('Medium' if x == 1 else 'High')\n",
        ")\n",
        "\n",
        "\n",
        "# Confusion Matrix\n",
        "# Gunakan string labels untuk kedua argumen\n",
        "cm = confusion_matrix(pandas_df['label_name'], pandas_df['prediction'])\n",
        "# Dapatkan unique labels dari kolom string\n",
        "labels = sorted(pandas_df['label_name'].unique())\n",
        "\n",
        "# Visualisasi Confusion Matrix\n",
        "plt.figure(figsize=(8, 6))\n",
        "# Pastikan order label di heatmap sama dengan order di confusion matrix\n",
        "sns.heatmap(cm, annot=True, fmt='d', xticklabels=labels, yticklabels=labels, cmap=\"Blues\")\n",
        "plt.xlabel(\"Predicted Label\")\n",
        "plt.ylabel(\"True Label\")\n",
        "plt.title(\"Confusion Matrix\")\n",
        "plt.show()"
      ],
      "metadata": {
        "colab": {
          "base_uri": "https://localhost:8080/",
          "height": 564
        },
        "id": "33tVNsk6NTdX",
        "outputId": "16d1495b-b4f5-4863-f30a-bb77f246e04b"
      },
      "execution_count": null,
      "outputs": [
        {
          "output_type": "display_data",
          "data": {
            "text/plain": [
              "<Figure size 800x600 with 2 Axes>"
            ],
            "image/png": "[encoded data removed]"
          },
          "metadata": {}
        }
      ]
    },
    {
      "cell_type": "code",
      "source": [
        "sns.countplot(x=\"prediction\", data=pandas_df)\n",
        "plt.title(\"Distribusi Hasil Klasisfikasi\")\n",
        "plt.xlabel(\"Label Class\")\n",
        "plt.ylabel(\"Jumlah Data\")\n",
        "plt.show()"
      ],
      "metadata": {
        "colab": {
          "base_uri": "https://localhost:8080/",
          "height": 472
        },
        "id": "I7IYMBkaOHIJ",
        "outputId": "7d665f9f-6984-4853-d35f-1f57365bf018"
      },
      "execution_count": null,
      "outputs": [
        {
          "output_type": "display_data",
          "data": {
            "text/plain": [
              "<Figure size 640x480 with 1 Axes>"
            ],
            "image/png": "[encoded data removed]"
          },
          "metadata": {}
        }
      ]
    },
    {
      "cell_type": "code",
      "source": [
        "save = predictions.select(\"judul\", \"harga\", \"terjual\",\"lokasi\", \"label_name\", \"prediction\")\n",
        "save.write.csv(\"predictions.csv\", header=True)"
      ],
      "metadata": {
        "id": "XRys69B28ofx"
      },
      "execution_count": null,
      "outputs": []
    }
  ]
}