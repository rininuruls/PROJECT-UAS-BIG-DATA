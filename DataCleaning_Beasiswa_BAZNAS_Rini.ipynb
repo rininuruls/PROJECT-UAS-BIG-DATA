{
  "nbformat": 4,
  "nbformat_minor": 0,
  "metadata": {
    "colab": {
      "provenance": [],
      "mount_file_id": "1SZWFRgSkoEc7jvnWemtw1lQJQNq0x50h",
      "authorship_tag": "ABX9TyOQjUY2zLGFyWOPg18C7S9J",
      "include_colab_link": true
    },
    "kernelspec": {
      "name": "python3",
      "display_name": "Python 3"
    },
    "language_info": {
      "name": "python"
    }
  },
  "cells": [
    {
      "cell_type": "markdown",
      "metadata": {
        "id": "view-in-github",
        "colab_type": "text"
      },
      "source": [
        "<a href=\"https://colab.research.google.com/github/rininuruls/PROJECT-UAS-BIG-DATA/blob/main/DataCleaning_Beasiswa_BAZNAS_Rini.ipynb\" target=\"_parent\"><img src=\"https://colab.research.google.com/assets/colab-badge.svg\" alt=\"Open In Colab\"/></a>"
      ]
    },
    {
      "cell_type": "code",
      "execution_count": 1,
      "metadata": {
        "colab": {
          "base_uri": "https://localhost:8080/"
        },
        "id": "r98qDx4dZ9Cp",
        "outputId": "28c88546-4255-44fd-b8b8-05228cc0817b"
      },
      "outputs": [
        {
          "output_type": "stream",
          "name": "stdout",
          "text": [
            "Requirement already satisfied: pyspark in /usr/local/lib/python3.11/dist-packages (3.5.1)\n",
            "Requirement already satisfied: py4j==0.10.9.7 in /usr/local/lib/python3.11/dist-packages (from pyspark) (0.10.9.7)\n"
          ]
        }
      ],
      "source": [
        "\n",
        "pip install pyspark"
      ]
    },
    {
      "cell_type": "code",
      "source": [
        "from pyspark.sql import SparkSession\n",
        "spark = SparkSession.builder.appName(\"DataCleaningExample\").getOrCreate()"
      ],
      "metadata": {
        "id": "mm6-AjhbaL1j"
      },
      "execution_count": 2,
      "outputs": []
    },
    {
      "cell_type": "code",
      "source": [
        "df = spark.read.csv('/content/Dataset_Beasiswa_BAZNAS_Indonesia.csv', header=True, inferSchema=True)\n",
        "df.show(5)"
      ],
      "metadata": {
        "colab": {
          "base_uri": "https://localhost:8080/"
        },
        "id": "N7-ZmM-5abfU",
        "outputId": "85834ee9-ec8e-447c-9cc1-55573e095e7c"
      },
      "execution_count": 3,
      "outputs": [
        {
          "output_type": "stream",
          "name": "stdout",
          "text": [
            "+---+-------+-------------------+-----------------+----+--------+----+----------------+--------------------+-------------------+-------------+\n",
            "| ID|   Nama|Pendapatan_Keluarga|Jumlah_Tanggungan| IPK|Semester|Usia|Status_Orang_Tua|Aktivitas_Organisasi|Pekerjaan_Sampingan|Skor_Motivasi|\n",
            "+---+-------+-------------------+-----------------+----+--------+----+----------------+--------------------+-------------------+-------------+\n",
            "|  1|   Gita|            3213573|                5|3.94|       4|  19|           Yatim|               Aktif|                Ada|           91|\n",
            "|  2|   Tari|            1525893|                4|3.23|       1|  18|     Yatim Piatu|         Tidak Aktif|                Ada|           91|\n",
            "|  3|   Omar|            4610102|                4|2.66|       7|  24|           Yatim|               Aktif|          Tidak Ada|           69|\n",
            "|  4|Kartini|            3169455|                3|3.32|       7|  22|           Yatim|         Tidak Aktif|                Ada|           58|\n",
            "|  5| Hendra|            3255363|                3|3.18|       1|  22|           Piatu|         Tidak Aktif|                Ada|           66|\n",
            "+---+-------+-------------------+-----------------+----+--------+----+----------------+--------------------+-------------------+-------------+\n",
            "only showing top 5 rows\n",
            "\n"
          ]
        }
      ]
    },
    {
      "cell_type": "code",
      "source": [
        "df.printSchema()\n",
        "df.describe().show()\n",
        "df.columns"
      ],
      "metadata": {
        "colab": {
          "base_uri": "https://localhost:8080/"
        },
        "id": "A1YCiNfaa_BQ",
        "outputId": "1897cdf1-bbd2-4d71-8cb0-934131fecea6"
      },
      "execution_count": 4,
      "outputs": [
        {
          "output_type": "stream",
          "name": "stdout",
          "text": [
            "root\n",
            " |-- ID: integer (nullable = true)\n",
            " |-- Nama: string (nullable = true)\n",
            " |-- Pendapatan_Keluarga: integer (nullable = true)\n",
            " |-- Jumlah_Tanggungan: integer (nullable = true)\n",
            " |-- IPK: double (nullable = true)\n",
            " |-- Semester: integer (nullable = true)\n",
            " |-- Usia: integer (nullable = true)\n",
            " |-- Status_Orang_Tua: string (nullable = true)\n",
            " |-- Aktivitas_Organisasi: string (nullable = true)\n",
            " |-- Pekerjaan_Sampingan: string (nullable = true)\n",
            " |-- Skor_Motivasi: integer (nullable = true)\n",
            "\n",
            "+-------+-----------------+------+-------------------+------------------+------------------+-----------------+-----------------+----------------+--------------------+-------------------+------------------+\n",
            "|summary|               ID|  Nama|Pendapatan_Keluarga| Jumlah_Tanggungan|               IPK|         Semester|             Usia|Status_Orang_Tua|Aktivitas_Organisasi|Pekerjaan_Sampingan|     Skor_Motivasi|\n",
            "+-------+-----------------+------+-------------------+------------------+------------------+-----------------+-----------------+----------------+--------------------+-------------------+------------------+\n",
            "|  count|             1000|  1000|               1000|              1000|              1000|             1000|             1000|            1000|                1000|               1000|              1000|\n",
            "|   mean|            500.5|  NULL|        2986426.672|             4.052|3.2479600000000004|            4.384|           21.105|            NULL|                NULL|               NULL|            74.612|\n",
            "| stddev|288.8194360957494|  NULL| 1133563.7241771452|1.9832370582533074|0.4309846704770206|2.297786722875696|2.008982581062118|            NULL|                NULL|               NULL|14.973364941043059|\n",
            "|    min|                1|Aisyah|            1000126|                 1|               2.5|                1|               18|         Lengkap|               Aktif|                Ada|                50|\n",
            "|    max|             1000|  Zaki|            4981298|                 7|               4.0|                8|               24|     Yatim Piatu|         Tidak Aktif|          Tidak Ada|               100|\n",
            "+-------+-----------------+------+-------------------+------------------+------------------+-----------------+-----------------+----------------+--------------------+-------------------+------------------+\n",
            "\n"
          ]
        },
        {
          "output_type": "execute_result",
          "data": {
            "text/plain": [
              "['ID',\n",
              " 'Nama',\n",
              " 'Pendapatan_Keluarga',\n",
              " 'Jumlah_Tanggungan',\n",
              " 'IPK',\n",
              " 'Semester',\n",
              " 'Usia',\n",
              " 'Status_Orang_Tua',\n",
              " 'Aktivitas_Organisasi',\n",
              " 'Pekerjaan_Sampingan',\n",
              " 'Skor_Motivasi']"
            ]
          },
          "metadata": {},
          "execution_count": 4
        }
      ]
    },
    {
      "cell_type": "code",
      "source": [
        "df_clean = df.dropDuplicates()"
      ],
      "metadata": {
        "id": "Aiw7L8yDbWg7"
      },
      "execution_count": 5,
      "outputs": []
    },
    {
      "cell_type": "code",
      "source": [
        "df_clean = df_clean.na.drop()  # Hapus baris dengan NULL"
      ],
      "metadata": {
        "id": "ba6hkbVLbmQ9"
      },
      "execution_count": 6,
      "outputs": []
    },
    {
      "cell_type": "code",
      "source": [
        "df_clean = df_clean.na.drop(subset=[\"Nama\"])"
      ],
      "metadata": {
        "id": "TGMMMYnHbtbQ"
      },
      "execution_count": 7,
      "outputs": []
    },
    {
      "cell_type": "code",
      "source": [
        "df_filled = df.fillna({'Usia': 0, 'Pekerjaan_Sampingan': 'Unknown'})"
      ],
      "metadata": {
        "id": "oEI-F4ancTH5"
      },
      "execution_count": 8,
      "outputs": []
    },
    {
      "cell_type": "code",
      "source": [
        "from pyspark.sql.functions import lower\n",
        "df_clean = df_clean.withColumn('nama', lower(df_clean['nama']))"
      ],
      "metadata": {
        "id": "nrnZo3czcy-n"
      },
      "execution_count": 9,
      "outputs": []
    },
    {
      "cell_type": "code",
      "source": [
        "from pyspark.sql.functions import col\n",
        "df_clean = df_clean.withColumn('Usia', col('Usia').cast('int'))"
      ],
      "metadata": {
        "id": "9uU8m9kqnIxF"
      },
      "execution_count": 10,
      "outputs": []
    },
    {
      "cell_type": "code",
      "source": [
        "from pyspark.sql.functions import col\n",
        "\n",
        "# Baca file CSV dengan header dan infer schema\n",
        "df = spark.read.csv('/content/Dataset_Beasiswa_BAZNAS_Indonesia.csv', header=True, inferSchema=True)\n",
        "\n",
        "# Hapus data duplikat\n",
        "df = df.dropDuplicates()\n",
        "\n",
        "# Hapus baris yang kolom \"Nama\"-nya kosong\n",
        "df = df.na.drop(subset=[\"Nama\"])\n",
        "\n",
        "# Isi nilai kosong di kolom \"Pekerjaan_Sampingan\" dengan 'Unknown'\n",
        "df = df.fillna({'Pekerjaan_Sampingan': 'Unknown'})\n",
        "\n",
        "# Ubah tipe data kolom \"Usia\" menjadi integer\n",
        "df = df.withColumn('Usia', col('Usia').cast('int'))\n",
        "\n",
        "# Tampilkan data\n",
        "df.show()\n"
      ],
      "metadata": {
        "colab": {
          "base_uri": "https://localhost:8080/"
        },
        "id": "mh9qeq2doG3T",
        "outputId": "dbc1bf2f-fced-48d8-e1f9-763156d021b4"
      },
      "execution_count": 11,
      "outputs": [
        {
          "output_type": "stream",
          "name": "stdout",
          "text": [
            "+---+------+-------------------+-----------------+----+--------+----+----------------+--------------------+-------------------+-------------+\n",
            "| ID|  Nama|Pendapatan_Keluarga|Jumlah_Tanggungan| IPK|Semester|Usia|Status_Orang_Tua|Aktivitas_Organisasi|Pekerjaan_Sampingan|Skor_Motivasi|\n",
            "+---+------+-------------------+-----------------+----+--------+----+----------------+--------------------+-------------------+-------------+\n",
            "| 23| Fajar|            4449299|                2|2.88|       7|  24|           Piatu|               Aktif|                Ada|           74|\n",
            "| 46|   Ika|            1064323|                6|3.61|       8|  20|     Yatim Piatu|               Aktif|          Tidak Ada|           72|\n",
            "|413|  Nina|            4480130|                1|3.51|       6|  20|     Yatim Piatu|               Aktif|          Tidak Ada|           87|\n",
            "|486| Sandi|            1090093|                7|2.55|       2|  21|         Lengkap|         Tidak Aktif|          Tidak Ada|           98|\n",
            "|523|  Budi|            3006032|                1|3.45|       6|  22|           Yatim|               Aktif|          Tidak Ada|           97|\n",
            "|579|  Qori|            2315573|                5|2.67|       2|  18|         Lengkap|         Tidak Aktif|                Ada|           52|\n",
            "|636|  Rani|            4297291|                5|2.75|       3|  18|         Lengkap|               Aktif|          Tidak Ada|           65|\n",
            "|951| Citra|            2123994|                4|2.68|       4|  24|     Yatim Piatu|               Aktif|                Ada|           73|\n",
            "| 67|Hendra|            1282272|                5|3.42|       8|  24|           Yatim|               Aktif|          Tidak Ada|           59|\n",
            "|877|  Omar|            4280772|                6|2.51|       2|  20|     Yatim Piatu|               Aktif|          Tidak Ada|           95|\n",
            "| 68|  Dedi|            1385925|                3|3.66|       8|  21|     Yatim Piatu|         Tidak Aktif|          Tidak Ada|           96|\n",
            "|241|  Vina|            1125885|                5|3.93|       7|  19|           Piatu|         Tidak Aktif|                Ada|           59|\n",
            "|257|  Tari|            1890695|                1|3.86|       4|  22|           Yatim|               Aktif|                Ada|           80|\n",
            "|604| Sandi|            3790416|                1|2.71|       3|  20|           Piatu|               Aktif|          Tidak Ada|           74|\n",
            "|861|  Qori|            3462616|                3|3.04|       5|  23|           Yatim|         Tidak Aktif|          Tidak Ada|           67|\n",
            "|483| Citra|            2490077|                1|2.62|       4|  22|           Yatim|               Aktif|          Tidak Ada|           75|\n",
            "|514|Aisyah|            2366853|                4|3.27|       5|  24|     Yatim Piatu|               Aktif|          Tidak Ada|           67|\n",
            "|679|  Rani|            1204615|                7|3.94|       8|  22|     Yatim Piatu|         Tidak Aktif|                Ada|           98|\n",
            "|979|  Budi|            4873683|                6|3.91|       1|  22|         Lengkap|               Aktif|          Tidak Ada|           78|\n",
            "|402|  Rani|            2256182|                3|3.02|       5|  19|           Yatim|         Tidak Aktif|                Ada|           55|\n",
            "+---+------+-------------------+-----------------+----+--------+----+----------------+--------------------+-------------------+-------------+\n",
            "only showing top 20 rows\n",
            "\n"
          ]
        }
      ]
    },
    {
      "cell_type": "code",
      "source": [
        "df.write.csv('cleaned_data.csv', header=True, mode='overwrite')"
      ],
      "metadata": {
        "id": "T4a1k3dao4aC"
      },
      "execution_count": 12,
      "outputs": []
    }
  ]
}